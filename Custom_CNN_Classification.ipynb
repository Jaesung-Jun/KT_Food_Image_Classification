{
 "cells": [
  {
   "cell_type": "code",
   "execution_count": 5,
   "id": "81053e54",
   "metadata": {},
   "outputs": [],
   "source": [
    "import tensorflow as tf\n",
    "import os\n",
    "      \n",
    "IMAGE_WIDTH = 256\n",
    "IMAGE_HEIGHT = 256\n",
    "IMAGE_CHANNEL = 3\n",
    "\n",
    "NUM_LABEL = 50"
   ]
  },
  {
   "cell_type": "code",
   "execution_count": 2,
   "id": "78ec1af2",
   "metadata": {},
   "outputs": [],
   "source": [
    "#Load Dataset\n",
    "def _parse_image_function(example_proto):\n",
    "    features = tf.io.parse_single_example(example_proto, image_feature_description)\n",
    "    image = tf.io.decode_raw(features['image'], tf.uint8)\n",
    "    image.set_shape([IMAGE_CHANNEL * IMAGE_WIDTH * IMAGE_HEIGHT])\n",
    "    image = tf.reshape(image, [IMAGE_WIDTH, IMAGE_HEIGHT, IMAGE_CHANNEL])\n",
    "\n",
    "    label = tf.cast(features['label'], tf.int32)\n",
    "    label = tf.one_hot(label, NUM_LABEL)\n",
    "\n",
    "    return image, label\n",
    "\n",
    "def read_dataset(epochs, batch_size, channel, channel_name):\n",
    "\n",
    "    filenames = [os.path.join(channel, channel_name + '.tfrecords')]\n",
    "    dataset = tf.data.TFRecordDataset(filenames)\n",
    "\n",
    "    image_feature_description = {\n",
    "        'image': tf.io.FixedLenFeature([], tf.string),\n",
    "        'label': tf.io.FixedLenFeature([], tf.int64),\n",
    "    }\n",
    "\n",
    "    dataset = dataset.map(_parse_image_function, num_parallel_calls=10)\n",
    "    dataset = dataset.prefetch(10)\n",
    "    dataset = dataset.repeat(epochs)\n",
    "    dataset = dataset.shuffle(buffer_size=10 * batch_size)\n",
    "    dataset = dataset.batch(batch_size, drop_remainder=True)\n",
    "\n",
    "    return dataset"
   ]
  },
  {
   "cell_type": "code",
   "execution_count": null,
   "id": "4ae209e2",
   "metadata": {},
   "outputs": [],
   "source": [
    "DATASET_PATH = '/raid/food_competition_KT_set1/kt_food.tfrecord'\n",
    "\n",
    "dataset = read_dataset(10, 100, '/raid/food_competition_KT_set1', 'kt_food')\n",
    "print(dataset)"
   ]
  }
 ],
 "metadata": {
  "kernelspec": {
   "display_name": "kfood",
   "language": "python",
   "name": "kfood"
  },
  "language_info": {
   "codemirror_mode": {
    "name": "ipython",
    "version": 3
   },
   "file_extension": ".py",
   "mimetype": "text/x-python",
   "name": "python",
   "nbconvert_exporter": "python",
   "pygments_lexer": "ipython3",
   "version": "3.8.13"
  }
 },
 "nbformat": 4,
 "nbformat_minor": 5
}
