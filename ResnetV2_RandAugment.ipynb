{
 "cells": [
  {
   "cell_type": "code",
   "execution_count": null,
   "id": "aa8f4c16",
   "metadata": {},
   "outputs": [],
   "source": [
    "import tensorflow as tf\n",
    "import numpy as np\n",
    "import matplotlib.pyplot as plt\n",
    "from tensorflow.keras import layers\n",
    "from imgaug import augmenters as iaa\n",
    "import imgaug as ia\n",
    "import os\n",
    "from filemanager import get_file_paths as gfp\n",
    "import matplotlib.font_manager as fm\n",
    "\n",
    "os.environ[\"CUDA_DEVICE_ORDER\"]=\"PCI_BUS_ID\"\n",
    "os.environ[\"CUDA_VISIBLE_DEVICES\"]=\"1\"\n",
    "\n",
    "IMAGE_WIDTH = 256\n",
    "IMAGE_HEIGHT = 256\n",
    "IMAGE_CHANNEL = 3\n",
    "NUM_IMAGE = 10000\n",
    "\n",
    "NUM_CLASS = 50\n",
    "\n",
    "tf.random.set_seed(42)\n",
    "ia.seed(42)"
   ]
  },
  {
   "cell_type": "markdown",
   "id": "7de7593e",
   "metadata": {},
   "source": [
    "# 레이블 불러오기"
   ]
  },
  {
   "cell_type": "code",
   "execution_count": null,
   "id": "474cc772",
   "metadata": {},
   "outputs": [],
   "source": [
    "dataset = gfp.File_Control.searchAllFilesInDirectoryByDir(\"/raid/food_competition_KT_set1/train\", \"jpg\")\n",
    "dataset.sort()\n",
    "label_dict = {}\n",
    "for i in range(len(dataset)):\n",
    "    label = os.path.dirname(dataset[i][0])\n",
    "    label = os.path.basename(label)\n",
    "    label_dict[str(i)] = label\n",
    "print(label_dict)"
   ]
  },
  {
   "cell_type": "markdown",
   "id": "898e35ba",
   "metadata": {},
   "source": [
    "# 기존 데이터 불러오기"
   ]
  },
  {
   "cell_type": "code",
   "execution_count": null,
   "id": "13ce0950",
   "metadata": {},
   "outputs": [],
   "source": [
    "x = np.load('/raid/food_competition_KT_set1/kfood_img.npy')\n",
    "y = np.load('/raid/food_competition_KT_set1/kfood_y.npy')\n",
    "\n",
    "np.random.seed(0)\n",
    "np.random.shuffle(x)\n",
    "np.random.seed(0)\n",
    "np.random.shuffle(y)"
   ]
  },
  {
   "cell_type": "markdown",
   "id": "f417a8f4",
   "metadata": {},
   "source": [
    "# Augmentation"
   ]
  },
  {
   "cell_type": "code",
   "execution_count": null,
   "id": "01443168",
   "metadata": {},
   "outputs": [],
   "source": [
    "rand_aug = iaa.RandAugment(n=3, m=7)\n",
    "\n",
    "def augment(images):\n",
    "    # Input to `augment()` is a TensorFlow tensor which\n",
    "    # is not supported by `imgaug`. This is why we first\n",
    "    # convert it to its `numpy` variant.\n",
    "    images = tf.cast(images, tf.uint8)\n",
    "    return rand_aug(images=images.numpy())"
   ]
  },
  {
   "cell_type": "markdown",
   "id": "8ea3b7a9",
   "metadata": {},
   "source": [
    "# 모델 학습"
   ]
  },
  {
   "cell_type": "code",
   "execution_count": null,
   "id": "82a91979",
   "metadata": {},
   "outputs": [],
   "source": [
    "from tensorflow import keras\n",
    "from tensorflow.keras import layers\n",
    "from tensorflow.keras.models import Sequential\n",
    "from tensorflow.keras.applications.resnet_v2 import ResNet50V2\n",
    "\n",
    "from sklearn.model_selection import KFold\n",
    "from sklearn.preprocessing import MinMaxScaler"
   ]
  },
  {
   "cell_type": "code",
   "execution_count": null,
   "id": "88839391",
   "metadata": {},
   "outputs": [],
   "source": [
    "def resnet_model(img_height, img_width, num_classes):\n",
    "    model = ResNet50V2(\n",
    "        include_top=True,\n",
    "        input_shape=(img_width, img_height, 3),\n",
    "        weights=None,\n",
    "        classes=50,\n",
    "    )\n",
    "    return model\n",
    "\n",
    "model = resnet_model(IMAGE_HEIGHT, IMAGE_WIDTH, NUM_CLASS)\n",
    "model.summary()"
   ]
  },
  {
   "cell_type": "code",
   "execution_count": null,
   "id": "3bdda364",
   "metadata": {},
   "outputs": [],
   "source": [
    "path = '/usr/share/fonts/truetype/nanum/NanumGothic.ttf'\n",
    "prop = fm.FontProperties(fname=path, size=18)"
   ]
  },
  {
   "cell_type": "code",
   "execution_count": null,
   "id": "ea367632",
   "metadata": {},
   "outputs": [],
   "source": [
    "#dataset = read_dataset(100, './dataset', 'kt_food')\n",
    "\n",
    "NUM_FOLD = 5\n",
    "EPOCHS = 30\n",
    "BATCH_SIZE = 32\n",
    "AUTO = tf.data.AUTOTUNE\n",
    "\n",
    "kfold = KFold(n_splits=NUM_FOLD, shuffle=True, random_state=30)\n",
    "\n",
    "fold_no = 1\n",
    "results = []\n",
    "\n",
    "for train_index, test_index in kfold.split(x):\n",
    "    \n",
    "    x_train, x_test = x[train_index], x[test_index]\n",
    "    y_train, y_test = y[train_index], y[test_index]\n",
    "    \n",
    "    x_train = augment(x_train)\n",
    "    \n",
    "    print(\"test index : \", test_index)\n",
    "    print(\"test index shape : \", test_index.shape)\n",
    "    \n",
    "    model = resnet_model(IMAGE_HEIGHT, IMAGE_WIDTH, NUM_CLASS)\n",
    "    \n",
    "    model.compile(optimizer='adam',\n",
    "              loss='categorical_crossentropy',\n",
    "              metrics=['accuracy'])\n",
    "    \n",
    "    print('-' * 50)\n",
    "    print(f'Training for fold {fold_no} ...')\n",
    "    model.fit(x=x_train, y=y_train, validation_data=(x_test, y_test), epochs=EPOCHS)\n",
    "    eval_results = model.evaluate(x_test, y_test)\n",
    "    print(\"test loss, test acc : \", eval_results)\n",
    "    results.append(eval_results)\n",
    "    fold_no = fold_no + 1\n",
    "    \n",
    "    break\n",
    "    \n"
   ]
  },
  {
   "cell_type": "code",
   "execution_count": null,
   "id": "08f92bb1",
   "metadata": {},
   "outputs": [],
   "source": []
  }
 ],
 "metadata": {
  "kernelspec": {
   "display_name": "kfood",
   "language": "python",
   "name": "kfood"
  },
  "language_info": {
   "codemirror_mode": {
    "name": "ipython",
    "version": 3
   },
   "file_extension": ".py",
   "mimetype": "text/x-python",
   "name": "python",
   "nbconvert_exporter": "python",
   "pygments_lexer": "ipython3",
   "version": "3.8.13"
  }
 },
 "nbformat": 4,
 "nbformat_minor": 5
}
