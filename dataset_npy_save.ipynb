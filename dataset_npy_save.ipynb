{
 "cells": [
  {
   "cell_type": "code",
   "execution_count": null,
   "id": "579d5591",
   "metadata": {},
   "outputs": [],
   "source": [
    "from filemanager import get_file_paths as gfp\n",
    "import tensorflow as tf\n",
    "\n",
    "import io\n",
    "import os\n",
    "import numpy as np\n",
    "\n",
    "from PIL import Image"
   ]
  },
  {
   "cell_type": "code",
   "execution_count": null,
   "id": "341738f7",
   "metadata": {},
   "outputs": [],
   "source": [
    "dataset = gfp.File_Control.searchAllFilesInDirectoryByDir(\"/raid/food_competition_KT_set1/train_reconstructed_0916\", \"jpg\")\n",
    "label_dict = {}\n",
    "dataset.sort()\n",
    "for i in range(len(dataset)):\n",
    "    label = os.path.dirname(dataset[i][0])\n",
    "    label = os.path.basename(label)\n",
    "    label_dict[str(i)] = label"
   ]
  },
  {
   "cell_type": "code",
   "execution_count": null,
   "id": "e8a6503c",
   "metadata": {},
   "outputs": [],
   "source": [
    "print(label_dict)"
   ]
  },
  {
   "cell_type": "code",
   "execution_count": null,
   "id": "826369d4",
   "metadata": {},
   "outputs": [],
   "source": [
    "def elementCount(list):\n",
    "    count = 0\n",
    "    for element in list:\n",
    "        count += len(element)\n",
    "    return count\n",
    "\n",
    "print(\"총 데이터 개수 :\", elementCount(dataset))\n",
    "y = np.ndarray((elementCount(dataset)), dtype=np.int8)\n",
    "x = np.ndarray((elementCount(dataset), 256, 256, 3), dtype=np.uint8)\n",
    "\n",
    "dataset_len = elementCount(dataset)\n",
    "index = 0\n",
    "RESIZE_WIDTH = 256\n",
    "RESIZE_HEIGHT = 256\n",
    "CHANNEL = 3\n",
    "for i in range(len(dataset)):\n",
    "    for data in dataset[i]:\n",
    "        img = Image.open(data)\n",
    "        img = img.convert('RGB')\n",
    "        img = img.resize((RESIZE_WIDTH, RESIZE_HEIGHT))\n",
    "        #img = preprocess_input(np.array(img))\n",
    "        y[index] = i\n",
    "        x[index] = img\n",
    "        index = index + 1\n",
    "        gfp.Progress_Bar.printProgressBar(index, dataset_len)\n",
    "\n",
    "y_unique_num = np.unique(y, axis=0)\n",
    "y_unique_num = y_unique_num.shape[0]\n",
    "\n",
    "y_encoded = np.eye(y_unique_num)[y] # One-Hot Encoding\n",
    "print(x.shape, y_encoded.shape)"
   ]
  },
  {
   "cell_type": "code",
   "execution_count": null,
   "id": "06a1c835",
   "metadata": {},
   "outputs": [],
   "source": [
    "print(\"npy saving...\")\n",
    "np.save('/raid/food_competition_KT_set1/kfood_img_0916.npy', x)\n",
    "np.save('/raid/food_competition_KT_set1/kfood_y_0916.npy', y_encoded)\n",
    "print(\"Complete!\")"
   ]
  }
 ],
 "metadata": {
  "kernelspec": {
   "display_name": "kfood",
   "language": "python",
   "name": "kfood"
  },
  "language_info": {
   "codemirror_mode": {
    "name": "ipython",
    "version": 3
   },
   "file_extension": ".py",
   "mimetype": "text/x-python",
   "name": "python",
   "nbconvert_exporter": "python",
   "pygments_lexer": "ipython3",
   "version": "3.8.13"
  }
 },
 "nbformat": 4,
 "nbformat_minor": 5
}
