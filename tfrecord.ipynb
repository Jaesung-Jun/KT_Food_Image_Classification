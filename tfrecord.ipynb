{
 "cells": [
  {
   "cell_type": "code",
   "execution_count": null,
   "id": "579d5591",
   "metadata": {},
   "outputs": [],
   "source": [
    "from filemanager import get_file_paths as gfp\n",
    "import tensorflow as tf\n",
    "\n",
    "import io\n",
    "import os\n",
    "import numpy as np\n",
    "from PIL import Image\n"
   ]
  },
  {
   "cell_type": "code",
   "execution_count": null,
   "id": "b542c6aa",
   "metadata": {},
   "outputs": [],
   "source": [
    "def write_tfrecords(x, y, filename):\n",
    "    writer = tf.io.TFRecordWriter(filename)\n",
    "\n",
    "    for image, label in zip(x, y):\n",
    "        example = tf.train.Example(features=tf.train.Features(\n",
    "            feature={\n",
    "                'image': tf.train.Feature(bytes_list=tf.train.BytesList(value=[image.tobytes()])),\n",
    "                'label': tf.train.Feature(int64_list=tf.train.Int64List(value=[label])),\n",
    "            }))\n",
    "        writer.write(example.SerializeToString())\n",
    "    writer.close()"
   ]
  },
  {
   "cell_type": "code",
   "execution_count": null,
   "id": "341738f7",
   "metadata": {},
   "outputs": [],
   "source": [
    "dataset = gfp.File_Control.searchAllFilesInDirectoryByDir(\"/raid/food_competition_KT_set1/train\", \"jpg\")\n",
    "label_dict = {}\n",
    "for i in range(len(dataset)):\n",
    "    label = os.path.dirname(dataset[i][0])\n",
    "    label = os.path.basename(label)\n",
    "    label_dict[str(i)] = label"
   ]
  },
  {
   "cell_type": "code",
   "execution_count": null,
   "id": "e8a6503c",
   "metadata": {},
   "outputs": [],
   "source": [
    "print(label_dict)"
   ]
  },
  {
   "cell_type": "code",
   "execution_count": null,
   "id": "826369d4",
   "metadata": {},
   "outputs": [],
   "source": [
    "def elementCount(list):\n",
    "    count = 0\n",
    "    for element in list:\n",
    "        count += len(element)\n",
    "    return count\n",
    "\n",
    "print(\"총 데이터 개수 :\", elementCount(dataset))\n",
    "y = np.ndarray((elementCount(dataset)), dtype=np.int32)\n",
    "x = np.ndarray((elementCount(dataset), 256, 256, 3), dtype=np.float32)\n",
    "\n",
    "dataset_len = elementCount(dataset)\n",
    "index = 0\n",
    "RESIZE_WIDTH = 256\n",
    "RESIZE_HEIGHT = 256\n",
    "CHANNEL = 3\n",
    "for i in range(len(dataset)):\n",
    "    for data in dataset[i]:\n",
    "        img = Image.open(data)\n",
    "        img = img.convert('RGB')\n",
    "        img = img.resize((RESIZE_WIDTH, RESIZE_HEIGHT))\n",
    "        #img = preprocess_input(np.array(img))\n",
    "        y[index] = i\n",
    "        x[index] = img\n",
    "        index = index + 1\n",
    "        gfp.Progress_Bar.printProgressBar(index, dataset_len)\n",
    "\n",
    "y_unique_num = np.unique(y, axis=0)\n",
    "y_unique_num = y_unique_num.shape[0]\n",
    "\n",
    "y_encoded = np.eye(y_unique_num)[y] # One-Hot Encoding\n",
    "print(x.shape, y.shape)"
   ]
  },
  {
   "cell_type": "code",
   "execution_count": null,
   "id": "06a1c835",
   "metadata": {},
   "outputs": [],
   "source": [
    "print(\"tfrecord saving...\")\n",
    "write_tfrecords(x, y, '/raid/food_competition_KT_set1/kt_food.tfrecord')\n",
    "print(\"Complete!\")"
   ]
  }
 ],
 "metadata": {
  "kernelspec": {
   "display_name": "Python 3.6.8 64-bit",
   "language": "python",
   "name": "python3"
  },
  "language_info": {
   "codemirror_mode": {
    "name": "ipython",
    "version": 3
   },
   "file_extension": ".py",
   "mimetype": "text/x-python",
   "name": "python",
   "nbconvert_exporter": "python",
   "pygments_lexer": "ipython3",
   "version": "3.6.8"
  },
  "vscode": {
   "interpreter": {
    "hash": "3bd13bc16400e16874b7ce28af58a129343287e94248a182c1f06fbb6b76ef8e"
   }
  }
 },
 "nbformat": 4,
 "nbformat_minor": 5
}
