{
 "cells": [
  {
   "cell_type": "markdown",
   "id": "083c59b1",
   "metadata": {},
   "source": [
    "# ResNetV2\n",
    "### Dataset : Reconstructed Augmented Dataset.\n",
    "### Loss Function : Label Smothing 0.2로 설정.\n",
    "### KFold : 5, Stratified\n",
    "### checkpoint save path : ./resnet_augmendted_labelsmoothing_0918\n",
    "### date : 09/18 06:11\n"
   ]
  },
  {
   "cell_type": "code",
   "execution_count": null,
   "id": "81053e54",
   "metadata": {},
   "outputs": [],
   "source": [
    "import tensorflow as tf\n",
    "import os\n",
    "import numpy as np\n",
    "import matplotlib.pyplot as plt\n",
    "from filemanager import get_file_paths as gfp\n",
    "import matplotlib.font_manager as fm\n",
    "      \n",
    "os.environ[\"CUDA_DEVICE_ORDER\"]=\"PCI_BUS_ID\"\n",
    "os.environ[\"CUDA_VISIBLE_DEVICES\"]=\"3\"\n",
    "\n",
    "IMAGE_WIDTH = 256\n",
    "IMAGE_HEIGHT = 256\n",
    "IMAGE_CHANNEL = 3\n",
    "NUM_IMAGE = 10000\n",
    "\n",
    "NUM_CLASS = 50"
   ]
  },
  {
   "cell_type": "markdown",
   "id": "20f94d2e",
   "metadata": {},
   "source": [
    "# 레이블 값들 가져오기 (데이터 시각화용)"
   ]
  },
  {
   "cell_type": "code",
   "execution_count": null,
   "id": "70f63f38",
   "metadata": {},
   "outputs": [],
   "source": [
    "dataset = gfp.File_Control.searchAllFilesInDirectoryByDir(\"/raid/food_competition_KT_set1/train\", \"jpg\")\n",
    "dataset.sort()\n",
    "label_dict = {}\n",
    "for i in range(len(dataset)):\n",
    "    label = os.path.dirname(dataset[i][0])\n",
    "    label = os.path.basename(label)\n",
    "    label_dict[str(i)] = label\n",
    "print(label_dict)"
   ]
  },
  {
   "cell_type": "markdown",
   "id": "8568ddf3",
   "metadata": {},
   "source": [
    "# npy 파일 불러오기"
   ]
  },
  {
   "cell_type": "code",
   "execution_count": null,
   "id": "78ec1af2",
   "metadata": {},
   "outputs": [],
   "source": [
    "x = np.load('/raid/food_competition_KT_set1/kfood_img.npy')\n",
    "y = np.load('/raid/food_competition_KT_set1/kfood_y.npy')\n",
    "\n",
    "x_augmented = np.load(\"/raid/food_competition_KT_set1/kfood_orgimg_augmented_0918.npy\")\n",
    "y_augmented = np.load(\"/raid/food_competition_KT_set1/kfood_orgy_augmented_0918.npy\")\n"
   ]
  },
  {
   "cell_type": "markdown",
   "id": "a01f0ea6",
   "metadata": {},
   "source": [
    "# 시각화 코드"
   ]
  },
  {
   "cell_type": "code",
   "execution_count": null,
   "id": "4ae209e2",
   "metadata": {},
   "outputs": [],
   "source": [
    "path = '/usr/share/fonts/truetype/nanum/NanumGothic.ttf'\n",
    "prop = fm.FontProperties(fname=path, size=18)\n",
    "\n",
    "def show_batch(image_batch, label_batch, num_photo=5):\n",
    "    plt.figure(figsize=(25, 25))\n",
    "    for n in range(num_photo*num_photo):\n",
    "        ax = plt.subplot(num_photo, num_photo, n + 1)\n",
    "        ax.set_title(label_dict[str(np.argmax(label_batch[n]))], fontproperties=prop)\n",
    "        plt.imshow(image_batch[n] / 255.0)\n",
    "        plt.axis(\"off\")\n",
    "#print(int(NUM_IMAGE/BATCH_SIZE))"
   ]
  },
  {
   "cell_type": "markdown",
   "id": "88c485dd",
   "metadata": {},
   "source": [
    "# 데이터 시각화"
   ]
  },
  {
   "cell_type": "code",
   "execution_count": null,
   "id": "ccaa4938",
   "metadata": {
    "scrolled": true
   },
   "outputs": [],
   "source": [
    "batch_x = x[:25]\n",
    "batch_y = y[:25]\n",
    "show_batch(batch_x, batch_y)\n",
    "\n",
    "batch_x = x_augmented[:25]\n",
    "batch_y = y_augmented[:25]\n",
    "show_batch(batch_x, batch_y)"
   ]
  },
  {
   "cell_type": "markdown",
   "id": "6dec5eb6",
   "metadata": {},
   "source": [
    "# Import Packages (TF)"
   ]
  },
  {
   "cell_type": "code",
   "execution_count": null,
   "id": "fc516fa2",
   "metadata": {},
   "outputs": [],
   "source": [
    "from tensorflow import keras\n",
    "from tensorflow.keras import layers\n",
    "from tensorflow.keras.models import Sequential\n",
    "from tensorflow.keras.applications.efficientnet import EfficientNetB7\n",
    "from tensorflow.keras.applications.resnet_v2 import ResNet50V2\n",
    "\n",
    "from sklearn.model_selection import StratifiedKFold\n",
    "from sklearn.preprocessing import MinMaxScaler"
   ]
  },
  {
   "cell_type": "markdown",
   "id": "a8a516e5",
   "metadata": {},
   "source": [
    "# 데이터 표준화 (0~1)"
   ]
  },
  {
   "cell_type": "code",
   "execution_count": null,
   "id": "8c211864",
   "metadata": {},
   "outputs": [],
   "source": [
    "x = x / 255\n",
    "print(x.shape, y.shape)\n",
    "print(np.min(x), np.max(x))\n",
    "\n",
    "x_augmented = x_augmented / 255\n",
    "print(x_augmented.shape, y_augmented.shape)\n",
    "print(np.min(x_augmented), np.max(x_augmented))"
   ]
  },
  {
   "cell_type": "markdown",
   "id": "57ab405b",
   "metadata": {},
   "source": [
    "# 기본 모델 구성"
   ]
  },
  {
   "cell_type": "code",
   "execution_count": null,
   "id": "38bd515e",
   "metadata": {},
   "outputs": [],
   "source": [
    "def resnet_model(img_height, img_width, num_classes):\n",
    "    model = ResNet50V2(\n",
    "        include_top=True,\n",
    "        input_shape=(img_width, img_height, 3),\n",
    "        weights=None,\n",
    "        classes=50,\n",
    "    )\n",
    "    \n",
    "    return model\n",
    "\n",
    "model = resnet_model(IMAGE_HEIGHT, IMAGE_WIDTH, NUM_CLASS)\n",
    "model.summary()"
   ]
  },
  {
   "cell_type": "markdown",
   "id": "12e4e8f5",
   "metadata": {},
   "source": [
    "# 컴파일 및 하이퍼 파라미터 설정"
   ]
  },
  {
   "cell_type": "markdown",
   "id": "bd85983b",
   "metadata": {},
   "source": [
    "# K-Fold Cross Validation Code 작성"
   ]
  },
  {
   "cell_type": "code",
   "execution_count": null,
   "id": "c0ae0ac3",
   "metadata": {
    "scrolled": true
   },
   "outputs": [],
   "source": [
    "#dataset = read_dataset(100, './dataset', 'kt_food')\n",
    "\n",
    "NUM_FOLD = 5\n",
    "EPOCHS = 30\n",
    "\n",
    "kfold = StratifiedKFold(n_splits=NUM_FOLD, shuffle=True, random_state=30)\n",
    "\n",
    "fold_no = 1\n",
    "results = []\n",
    "\n",
    "CHECKPOINT_PATH = './resnet_augmented2_labelsmoothing_0918'\n",
    "\n",
    "model_checkpoint_callback = tf.keras.callbacks.ModelCheckpoint(\n",
    "    filepath=CHECKPOINT_PATH,\n",
    "    save_weights_only=True,\n",
    "    monitor='val_accuracy',\n",
    "    mode='max',\n",
    "    save_best_only=True\n",
    ")\n",
    "\n",
    "model_early_stopping_callback = tf.keras.callbacks.EarlyStopping(monitor='val_accuracy', patience=5)\n",
    "\n",
    "for train_index, test_index in kfold.split(x, y.argmax(1)):\n",
    "    \n",
    "    x_train, x_test = x[train_index], x[test_index]\n",
    "    y_train, y_test = y[train_index], y[test_index]\n",
    "    \n",
    "    x_train = np.concatenate((x_augmented[train_index], x_train))\n",
    "    y_train = np.concatenate((y_augmented[train_index], y_train))\n",
    "    \n",
    "    \n",
    "    print(\"test index : \", test_index)\n",
    "    print(\"test index shape : \", test_index.shape)\n",
    "    print(\"shapes : \", x_train.shape, y_train.shape, x_test.shape, y_test.shape)\n",
    "    #show_batch(x_test[:25] * 255, y_test[:25])\n",
    "    \n",
    "    np.random.seed(0)\n",
    "    np.random.shuffle(x_train)\n",
    "    np.random.seed(0)\n",
    "    np.random.shuffle(y_train)\n",
    "    \n",
    "    model = resnet_model(IMAGE_HEIGHT, IMAGE_WIDTH, NUM_CLASS)\n",
    "    loss_f = tf.keras.losses.CategoricalCrossentropy(label_smoothing=0.2)\n",
    "    \n",
    "    model.compile(optimizer='adam',\n",
    "              loss=loss_f,\n",
    "              metrics=['accuracy'])\n",
    "    \n",
    "    print('-' * 50)\n",
    "    print(f'Training for fold {fold_no} ...')\n",
    "    print(x_train.shape, y_train.shape, x_test.shape, y_test.shape)\n",
    "    \n",
    "    hist = model.fit(x=x_train, \n",
    "              y=y_train, \n",
    "              validation_data=(x_test, y_test), \n",
    "              epochs=EPOCHS, \n",
    "              batch_size=32,\n",
    "              callbacks=[model_checkpoint_callback, model_early_stopping_callback]\n",
    "            )\n",
    "    \n",
    "    eval_results = model.evaluate(x_test, y_test)\n",
    "    print(\"test loss, test acc : \", eval_results)\n",
    "    results.append(hist)\n",
    "    #del model\n",
    "    fold_no = fold_no + 1\n",
    "    break"
   ]
  },
  {
   "cell_type": "code",
   "execution_count": null,
   "id": "6bf94d1a",
   "metadata": {},
   "outputs": [],
   "source": [
    "import pickle\n",
    "\n",
    "with open('ResNetV2-Reconstructed-augmented-2/hist_fold2.pickle', 'wb') as f:\n",
    "    pickle.dump(results, f, pickle.HIGHEST_PROTOCOL)"
   ]
  },
  {
   "cell_type": "code",
   "execution_count": null,
   "id": "6e0c71f9",
   "metadata": {},
   "outputs": [],
   "source": []
  }
 ],
 "metadata": {
  "kernelspec": {
   "display_name": "kfood",
   "language": "python",
   "name": "kfood"
  },
  "language_info": {
   "codemirror_mode": {
    "name": "ipython",
    "version": 3
   },
   "file_extension": ".py",
   "mimetype": "text/x-python",
   "name": "python",
   "nbconvert_exporter": "python",
   "pygments_lexer": "ipython3",
   "version": "3.8.13"
  }
 },
 "nbformat": 4,
 "nbformat_minor": 5
}
